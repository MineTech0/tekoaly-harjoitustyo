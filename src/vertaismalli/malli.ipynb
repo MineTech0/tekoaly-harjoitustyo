{
 "cells": [
  {
   "cell_type": "code",
   "execution_count": null,
   "metadata": {},
   "outputs": [],
   "source": [
    "# Tarvittavien kirjastojen tuonti\n",
    "import numpy as np\n",
    "import librosa\n",
    "import librosa.display\n",
    "import matplotlib.pyplot as plt\n",
    "from sklearn.model_selection import train_test_split\n",
    "from sklearn.preprocessing import LabelEncoder\n",
    "from tensorflow.keras.utils import to_categorical\n",
    "from tensorflow.keras.models import Sequential\n",
    "from tensorflow.keras.layers import Conv2D, MaxPooling2D, Flatten, Dense, Dropout\n",
    "from tensorflow.keras.optimizers import Adam"
   ]
  },
  {
   "cell_type": "markdown",
   "metadata": {},
   "source": []
  },
  {
   "cell_type": "code",
   "execution_count": null,
   "metadata": {},
   "outputs": [],
   "source": [
    "# Datan lataaminen ja esikäsittely\n",
    "def lataa_ja_muunna_audio(audio_tiedosto, näytteenottotaajuus=22050):\n",
    "    aaltomuoto, sr = librosa.load(audio_tiedosto, sr=näytteenottotaajuus)\n",
    "    return aaltomuoto, sr"
   ]
  },
  {
   "cell_type": "code",
   "execution_count": null,
   "metadata": {},
   "outputs": [],
   "source": [
    "def luo_spektrogrammi(aaltomuoto, sr, hop_length=512):\n",
    "    S = librosa.feature.melspectrogram(aaltomuoto, sr=sr, n_fft=2048, hop_length=hop_length)\n",
    "    S_DB = librosa.power_to_db(S, ref=np.max)\n",
    "    return S_DB"
   ]
  },
  {
   "cell_type": "code",
   "execution_count": null,
   "metadata": {},
   "outputs": [],
   "source": [
    "# Oletetaan, että sinulla on lista kappalepolkuja ja vastaavia tanssilajilabeleita\n",
    "kappalepolut = ['polku1.mp3', 'polku2.mp3', ...]\n",
    "tanssilajilabelit = ['salsa', 'tango', ...]\n",
    "\n",
    "# Ladataan ja esikäsitellään data\n",
    "spektrogrammit = []\n",
    "for polku in kappalepolut:\n",
    "    aaltomuoto, sr = lataa_ja_muunna_audio(polku)\n",
    "    spektrogrammi = luo_spektrogrammi(aaltomuoto, sr)\n",
    "    spektrogrammit.append(spektrogrammi)"
   ]
  },
  {
   "cell_type": "code",
   "execution_count": null,
   "metadata": {},
   "outputs": [],
   "source": [
    "# Muunnetaan lista numpy-taulukoksi\n",
    "spektrogrammit_np = np.array(spektrogrammit)\n",
    "\n",
    "# Labelien käsittely\n",
    "label_encoder = LabelEncoder()\n",
    "tanssilaji_numerot = label_encoder.fit_transform(tanssilajilabelit)\n",
    "tanssilaji_one_hot = to_categorical(tanssilaji_numerot)\n",
    "\n",
    "# Jaa data opetus- ja testisetteihin\n",
    "X_train, X_test, y_train, y_test = train_test_split(spektrogrammit_np, tanssilaji_one_hot, test_size=0.2, random_state=42)\n"
   ]
  },
  {
   "cell_type": "code",
   "execution_count": null,
   "metadata": {},
   "outputs": [],
   "source": [
    "# CNN-mallin määrittely\n",
    "model = Sequential([\n",
    "    Conv2D(32, (3, 3), activation='relu', input_shape=(X_train.shape[1], X_train.shape[2], 1)),\n",
    "    MaxPooling2D((2, 2)),\n",
    "    Conv2D(64, (3, 3), activation='relu'),\n",
    "    MaxPooling2D((2, 2)),\n",
    "    Conv2D(64, (3, 3), activation='relu'),\n",
    "    Flatten(),\n",
    "    Dense(64, activation='relu'),\n",
    "    Dropout(0.5),\n",
    "    Dense(y_train.shape[1], activation='softmax')\n",
    "])"
   ]
  },
  {
   "cell_type": "code",
   "execution_count": null,
   "metadata": {},
   "outputs": [],
   "source": [
    "# Mallin kokoaminen\n",
    "model.compile(optimizer=Adam(),\n",
    "              loss='categorical_crossentropy',\n",
    "              metrics=['accuracy'])"
   ]
  },
  {
   "cell_type": "code",
   "execution_count": null,
   "metadata": {},
   "outputs": [],
   "source": [
    "# Mallin kouluttaminen\n",
    "history = model.fit(X_train, y_train, epochs=10, validation_data=(X_test, y_test))"
   ]
  },
  {
   "cell_type": "code",
   "execution_count": null,
   "metadata": {},
   "outputs": [],
   "source": [
    "# Mallin suorituskyvyn evaluointi\n",
    "plt.plot(history.history['accuracy'], label='Opetustarkkuus')\n",
    "plt.plot(history.history['val_accuracy'], label='Validointitarkkuus')\n",
    "plt.xlabel('Epoch')\n",
    "plt.ylabel('Tarkkuus')\n",
    "plt.legend()\n",
    "plt.show()"
   ]
  }
 ],
 "metadata": {
  "kernelspec": {
   "display_name": "login-robot-jI4q7k4c-py3.10",
   "language": "python",
   "name": "python3"
  },
  "language_info": {
   "name": "python",
   "version": "3.10.12"
  }
 },
 "nbformat": 4,
 "nbformat_minor": 2
}
