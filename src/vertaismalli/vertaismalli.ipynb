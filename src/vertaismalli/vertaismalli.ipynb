{
 "cells": [
  {
   "cell_type": "code",
   "execution_count": 1,
   "metadata": {},
   "outputs": [],
   "source": [
    "# Tarvittavien kirjastojen tuonti\n",
    "import numpy as np\n",
    "import librosa\n",
    "import librosa.display\n",
    "import matplotlib.pyplot as plt"
   ]
  },
  {
   "cell_type": "code",
   "execution_count": 2,
   "metadata": {},
   "outputs": [
    {
     "name": "stdout",
     "output_type": "stream",
     "text": [
      "X_train: (1387, 64, 862)\n",
      "y_train: (1387, 3)\n",
      "X_test: (347, 64, 862)\n",
      "y_test: (347, 3)\n",
      "labels: ['fusku' 'salsa' 'valssi']\n"
     ]
    }
   ],
   "source": [
    "DATAN_POLKU = \"../data/kappaleet.npz\"\n",
    "\n",
    "DATAN_POLKU = \"../data/kappaleet.npz\"\n",
    "\n",
    "def lataa_data():\n",
    "    data = np.load(DATAN_POLKU, allow_pickle=True)\n",
    "\n",
    "    # Accessing the training and testing data\n",
    "    X_train = data['X_train']\n",
    "    y_train = data['y_train']\n",
    "    X_test = data['X_test']\n",
    "    y_test = data['y_test']\n",
    "    labels = data['labels']\n",
    "    \n",
    "    return X_train, y_train, X_test, y_test, labels\n",
    "\n",
    "\n",
    "\n",
    "X_train, y_train, X_test, y_test, labels = lataa_data()\n",
    "\n",
    "print(\"X_train:\", X_train.shape)\n",
    "print(\"y_train:\", y_train.shape)\n",
    "print(\"X_test:\", X_test.shape)\n",
    "print(\"y_test:\", y_test.shape)\n",
    "print(\"labels:\", labels)\n"
   ]
  },
  {
   "cell_type": "code",
   "execution_count": 3,
   "metadata": {},
   "outputs": [],
   "source": [
    "from tensorflow.keras.layers import Input, Conv2D, Flatten, Dense, Dropout, BatchNormalization, MaxPooling2D\n",
    "from tensorflow.keras.models import Sequential\n",
    "from tensorflow.keras.optimizers import Adam\n",
    "from tensorflow.keras import regularizers\n",
    "from tensorflow.keras import backend as K\n",
    "from tensorflow.keras import saving\n",
    "from tensorflow import keras\n",
    "\n",
    "\n",
    "# metriikka mallin arvioimiseksi\n",
    "@saving.register_keras_serializable()\n",
    "def metric(y_true, y_pred):\n",
    "    return K.mean(K.equal(K.argmax(y_true, axis=1), K.argmax(y_pred, axis=1)))\n",
    "\n",
    "# CNN-mallin määrittely\n",
    "model = Sequential([\n",
    "    Input(shape=(X_train.shape[1], X_train.shape[2], 1)),\n",
    "    Conv2D(64, kernel_size=(4, 4), activation='relu'),\n",
    "    BatchNormalization(),\n",
    "    MaxPooling2D(pool_size=(2, 4)),\n",
    "    Conv2D(64, (3, 5), activation='relu'\n",
    "                    , kernel_regularizer=regularizers.l2(0.04)\n",
    "                    ),\n",
    "    MaxPooling2D(pool_size=(2, 2)),\n",
    "    Dropout(0.2),\n",
    "    Conv2D(64, (2, 2), activation='relu'),\n",
    "    BatchNormalization(),\n",
    "    MaxPooling2D(pool_size=(2, 2)),\n",
    "    Dropout(0.2),\n",
    "    Flatten(),\n",
    "    Dense(64, activation='relu', kernel_regularizer=regularizers.l2(0.04)),\n",
    "    Dropout(0.5),\n",
    "    Dense(32, activation='relu', kernel_regularizer=regularizers.l2(0.04)),\n",
    "    Dense(y_train.shape[1], activation='softmax')\n",
    "])\n",
    "\n",
    "# Mallin kokoaminen\n",
    "model.compile(optimizer=Adam(),\n",
    "              loss='categorical_crossentropy',\n",
    "              metrics=[metric])"
   ]
  },
  {
   "cell_type": "code",
   "execution_count": 4,
   "metadata": {},
   "outputs": [
    {
     "data": {
      "text/html": [
       "<pre style=\"white-space:pre;overflow-x:auto;line-height:normal;font-family:Menlo,'DejaVu Sans Mono',consolas,'Courier New',monospace\"><span style=\"font-weight: bold\">Model: \"sequential\"</span>\n",
       "</pre>\n"
      ],
      "text/plain": [
       "\u001b[1mModel: \"sequential\"\u001b[0m\n"
      ]
     },
     "metadata": {},
     "output_type": "display_data"
    },
    {
     "data": {
      "text/html": [
       "<pre style=\"white-space:pre;overflow-x:auto;line-height:normal;font-family:Menlo,'DejaVu Sans Mono',consolas,'Courier New',monospace\">┏━━━━━━━━━━━━━━━━━━━━━━━━━━━━━━━━━┳━━━━━━━━━━━━━━━━━━━━━━━━┳━━━━━━━━━━━━━━━┓\n",
       "┃<span style=\"font-weight: bold\"> Layer (type)                    </span>┃<span style=\"font-weight: bold\"> Output Shape           </span>┃<span style=\"font-weight: bold\">       Param # </span>┃\n",
       "┡━━━━━━━━━━━━━━━━━━━━━━━━━━━━━━━━━╇━━━━━━━━━━━━━━━━━━━━━━━━╇━━━━━━━━━━━━━━━┩\n",
       "│ conv2d (<span style=\"color: #0087ff; text-decoration-color: #0087ff\">Conv2D</span>)                 │ (<span style=\"color: #00d7ff; text-decoration-color: #00d7ff\">None</span>, <span style=\"color: #00af00; text-decoration-color: #00af00\">61</span>, <span style=\"color: #00af00; text-decoration-color: #00af00\">859</span>, <span style=\"color: #00af00; text-decoration-color: #00af00\">64</span>)    │         <span style=\"color: #00af00; text-decoration-color: #00af00\">1,088</span> │\n",
       "├─────────────────────────────────┼────────────────────────┼───────────────┤\n",
       "│ batch_normalization             │ (<span style=\"color: #00d7ff; text-decoration-color: #00d7ff\">None</span>, <span style=\"color: #00af00; text-decoration-color: #00af00\">61</span>, <span style=\"color: #00af00; text-decoration-color: #00af00\">859</span>, <span style=\"color: #00af00; text-decoration-color: #00af00\">64</span>)    │           <span style=\"color: #00af00; text-decoration-color: #00af00\">256</span> │\n",
       "│ (<span style=\"color: #0087ff; text-decoration-color: #0087ff\">BatchNormalization</span>)            │                        │               │\n",
       "├─────────────────────────────────┼────────────────────────┼───────────────┤\n",
       "│ max_pooling2d (<span style=\"color: #0087ff; text-decoration-color: #0087ff\">MaxPooling2D</span>)    │ (<span style=\"color: #00d7ff; text-decoration-color: #00d7ff\">None</span>, <span style=\"color: #00af00; text-decoration-color: #00af00\">30</span>, <span style=\"color: #00af00; text-decoration-color: #00af00\">214</span>, <span style=\"color: #00af00; text-decoration-color: #00af00\">64</span>)    │             <span style=\"color: #00af00; text-decoration-color: #00af00\">0</span> │\n",
       "├─────────────────────────────────┼────────────────────────┼───────────────┤\n",
       "│ conv2d_1 (<span style=\"color: #0087ff; text-decoration-color: #0087ff\">Conv2D</span>)               │ (<span style=\"color: #00d7ff; text-decoration-color: #00d7ff\">None</span>, <span style=\"color: #00af00; text-decoration-color: #00af00\">28</span>, <span style=\"color: #00af00; text-decoration-color: #00af00\">210</span>, <span style=\"color: #00af00; text-decoration-color: #00af00\">64</span>)    │        <span style=\"color: #00af00; text-decoration-color: #00af00\">61,504</span> │\n",
       "├─────────────────────────────────┼────────────────────────┼───────────────┤\n",
       "│ max_pooling2d_1 (<span style=\"color: #0087ff; text-decoration-color: #0087ff\">MaxPooling2D</span>)  │ (<span style=\"color: #00d7ff; text-decoration-color: #00d7ff\">None</span>, <span style=\"color: #00af00; text-decoration-color: #00af00\">14</span>, <span style=\"color: #00af00; text-decoration-color: #00af00\">105</span>, <span style=\"color: #00af00; text-decoration-color: #00af00\">64</span>)    │             <span style=\"color: #00af00; text-decoration-color: #00af00\">0</span> │\n",
       "├─────────────────────────────────┼────────────────────────┼───────────────┤\n",
       "│ dropout (<span style=\"color: #0087ff; text-decoration-color: #0087ff\">Dropout</span>)               │ (<span style=\"color: #00d7ff; text-decoration-color: #00d7ff\">None</span>, <span style=\"color: #00af00; text-decoration-color: #00af00\">14</span>, <span style=\"color: #00af00; text-decoration-color: #00af00\">105</span>, <span style=\"color: #00af00; text-decoration-color: #00af00\">64</span>)    │             <span style=\"color: #00af00; text-decoration-color: #00af00\">0</span> │\n",
       "├─────────────────────────────────┼────────────────────────┼───────────────┤\n",
       "│ conv2d_2 (<span style=\"color: #0087ff; text-decoration-color: #0087ff\">Conv2D</span>)               │ (<span style=\"color: #00d7ff; text-decoration-color: #00d7ff\">None</span>, <span style=\"color: #00af00; text-decoration-color: #00af00\">13</span>, <span style=\"color: #00af00; text-decoration-color: #00af00\">104</span>, <span style=\"color: #00af00; text-decoration-color: #00af00\">64</span>)    │        <span style=\"color: #00af00; text-decoration-color: #00af00\">16,448</span> │\n",
       "├─────────────────────────────────┼────────────────────────┼───────────────┤\n",
       "│ batch_normalization_1           │ (<span style=\"color: #00d7ff; text-decoration-color: #00d7ff\">None</span>, <span style=\"color: #00af00; text-decoration-color: #00af00\">13</span>, <span style=\"color: #00af00; text-decoration-color: #00af00\">104</span>, <span style=\"color: #00af00; text-decoration-color: #00af00\">64</span>)    │           <span style=\"color: #00af00; text-decoration-color: #00af00\">256</span> │\n",
       "│ (<span style=\"color: #0087ff; text-decoration-color: #0087ff\">BatchNormalization</span>)            │                        │               │\n",
       "├─────────────────────────────────┼────────────────────────┼───────────────┤\n",
       "│ max_pooling2d_2 (<span style=\"color: #0087ff; text-decoration-color: #0087ff\">MaxPooling2D</span>)  │ (<span style=\"color: #00d7ff; text-decoration-color: #00d7ff\">None</span>, <span style=\"color: #00af00; text-decoration-color: #00af00\">6</span>, <span style=\"color: #00af00; text-decoration-color: #00af00\">52</span>, <span style=\"color: #00af00; text-decoration-color: #00af00\">64</span>)      │             <span style=\"color: #00af00; text-decoration-color: #00af00\">0</span> │\n",
       "├─────────────────────────────────┼────────────────────────┼───────────────┤\n",
       "│ dropout_1 (<span style=\"color: #0087ff; text-decoration-color: #0087ff\">Dropout</span>)             │ (<span style=\"color: #00d7ff; text-decoration-color: #00d7ff\">None</span>, <span style=\"color: #00af00; text-decoration-color: #00af00\">6</span>, <span style=\"color: #00af00; text-decoration-color: #00af00\">52</span>, <span style=\"color: #00af00; text-decoration-color: #00af00\">64</span>)      │             <span style=\"color: #00af00; text-decoration-color: #00af00\">0</span> │\n",
       "├─────────────────────────────────┼────────────────────────┼───────────────┤\n",
       "│ flatten (<span style=\"color: #0087ff; text-decoration-color: #0087ff\">Flatten</span>)               │ (<span style=\"color: #00d7ff; text-decoration-color: #00d7ff\">None</span>, <span style=\"color: #00af00; text-decoration-color: #00af00\">19968</span>)          │             <span style=\"color: #00af00; text-decoration-color: #00af00\">0</span> │\n",
       "├─────────────────────────────────┼────────────────────────┼───────────────┤\n",
       "│ dense (<span style=\"color: #0087ff; text-decoration-color: #0087ff\">Dense</span>)                   │ (<span style=\"color: #00d7ff; text-decoration-color: #00d7ff\">None</span>, <span style=\"color: #00af00; text-decoration-color: #00af00\">64</span>)             │     <span style=\"color: #00af00; text-decoration-color: #00af00\">1,278,016</span> │\n",
       "├─────────────────────────────────┼────────────────────────┼───────────────┤\n",
       "│ dropout_2 (<span style=\"color: #0087ff; text-decoration-color: #0087ff\">Dropout</span>)             │ (<span style=\"color: #00d7ff; text-decoration-color: #00d7ff\">None</span>, <span style=\"color: #00af00; text-decoration-color: #00af00\">64</span>)             │             <span style=\"color: #00af00; text-decoration-color: #00af00\">0</span> │\n",
       "├─────────────────────────────────┼────────────────────────┼───────────────┤\n",
       "│ dense_1 (<span style=\"color: #0087ff; text-decoration-color: #0087ff\">Dense</span>)                 │ (<span style=\"color: #00d7ff; text-decoration-color: #00d7ff\">None</span>, <span style=\"color: #00af00; text-decoration-color: #00af00\">32</span>)             │         <span style=\"color: #00af00; text-decoration-color: #00af00\">2,080</span> │\n",
       "├─────────────────────────────────┼────────────────────────┼───────────────┤\n",
       "│ dense_2 (<span style=\"color: #0087ff; text-decoration-color: #0087ff\">Dense</span>)                 │ (<span style=\"color: #00d7ff; text-decoration-color: #00d7ff\">None</span>, <span style=\"color: #00af00; text-decoration-color: #00af00\">3</span>)              │            <span style=\"color: #00af00; text-decoration-color: #00af00\">99</span> │\n",
       "└─────────────────────────────────┴────────────────────────┴───────────────┘\n",
       "</pre>\n"
      ],
      "text/plain": [
       "┏━━━━━━━━━━━━━━━━━━━━━━━━━━━━━━━━━┳━━━━━━━━━━━━━━━━━━━━━━━━┳━━━━━━━━━━━━━━━┓\n",
       "┃\u001b[1m \u001b[0m\u001b[1mLayer (type)                   \u001b[0m\u001b[1m \u001b[0m┃\u001b[1m \u001b[0m\u001b[1mOutput Shape          \u001b[0m\u001b[1m \u001b[0m┃\u001b[1m \u001b[0m\u001b[1m      Param #\u001b[0m\u001b[1m \u001b[0m┃\n",
       "┡━━━━━━━━━━━━━━━━━━━━━━━━━━━━━━━━━╇━━━━━━━━━━━━━━━━━━━━━━━━╇━━━━━━━━━━━━━━━┩\n",
       "│ conv2d (\u001b[38;5;33mConv2D\u001b[0m)                 │ (\u001b[38;5;45mNone\u001b[0m, \u001b[38;5;34m61\u001b[0m, \u001b[38;5;34m859\u001b[0m, \u001b[38;5;34m64\u001b[0m)    │         \u001b[38;5;34m1,088\u001b[0m │\n",
       "├─────────────────────────────────┼────────────────────────┼───────────────┤\n",
       "│ batch_normalization             │ (\u001b[38;5;45mNone\u001b[0m, \u001b[38;5;34m61\u001b[0m, \u001b[38;5;34m859\u001b[0m, \u001b[38;5;34m64\u001b[0m)    │           \u001b[38;5;34m256\u001b[0m │\n",
       "│ (\u001b[38;5;33mBatchNormalization\u001b[0m)            │                        │               │\n",
       "├─────────────────────────────────┼────────────────────────┼───────────────┤\n",
       "│ max_pooling2d (\u001b[38;5;33mMaxPooling2D\u001b[0m)    │ (\u001b[38;5;45mNone\u001b[0m, \u001b[38;5;34m30\u001b[0m, \u001b[38;5;34m214\u001b[0m, \u001b[38;5;34m64\u001b[0m)    │             \u001b[38;5;34m0\u001b[0m │\n",
       "├─────────────────────────────────┼────────────────────────┼───────────────┤\n",
       "│ conv2d_1 (\u001b[38;5;33mConv2D\u001b[0m)               │ (\u001b[38;5;45mNone\u001b[0m, \u001b[38;5;34m28\u001b[0m, \u001b[38;5;34m210\u001b[0m, \u001b[38;5;34m64\u001b[0m)    │        \u001b[38;5;34m61,504\u001b[0m │\n",
       "├─────────────────────────────────┼────────────────────────┼───────────────┤\n",
       "│ max_pooling2d_1 (\u001b[38;5;33mMaxPooling2D\u001b[0m)  │ (\u001b[38;5;45mNone\u001b[0m, \u001b[38;5;34m14\u001b[0m, \u001b[38;5;34m105\u001b[0m, \u001b[38;5;34m64\u001b[0m)    │             \u001b[38;5;34m0\u001b[0m │\n",
       "├─────────────────────────────────┼────────────────────────┼───────────────┤\n",
       "│ dropout (\u001b[38;5;33mDropout\u001b[0m)               │ (\u001b[38;5;45mNone\u001b[0m, \u001b[38;5;34m14\u001b[0m, \u001b[38;5;34m105\u001b[0m, \u001b[38;5;34m64\u001b[0m)    │             \u001b[38;5;34m0\u001b[0m │\n",
       "├─────────────────────────────────┼────────────────────────┼───────────────┤\n",
       "│ conv2d_2 (\u001b[38;5;33mConv2D\u001b[0m)               │ (\u001b[38;5;45mNone\u001b[0m, \u001b[38;5;34m13\u001b[0m, \u001b[38;5;34m104\u001b[0m, \u001b[38;5;34m64\u001b[0m)    │        \u001b[38;5;34m16,448\u001b[0m │\n",
       "├─────────────────────────────────┼────────────────────────┼───────────────┤\n",
       "│ batch_normalization_1           │ (\u001b[38;5;45mNone\u001b[0m, \u001b[38;5;34m13\u001b[0m, \u001b[38;5;34m104\u001b[0m, \u001b[38;5;34m64\u001b[0m)    │           \u001b[38;5;34m256\u001b[0m │\n",
       "│ (\u001b[38;5;33mBatchNormalization\u001b[0m)            │                        │               │\n",
       "├─────────────────────────────────┼────────────────────────┼───────────────┤\n",
       "│ max_pooling2d_2 (\u001b[38;5;33mMaxPooling2D\u001b[0m)  │ (\u001b[38;5;45mNone\u001b[0m, \u001b[38;5;34m6\u001b[0m, \u001b[38;5;34m52\u001b[0m, \u001b[38;5;34m64\u001b[0m)      │             \u001b[38;5;34m0\u001b[0m │\n",
       "├─────────────────────────────────┼────────────────────────┼───────────────┤\n",
       "│ dropout_1 (\u001b[38;5;33mDropout\u001b[0m)             │ (\u001b[38;5;45mNone\u001b[0m, \u001b[38;5;34m6\u001b[0m, \u001b[38;5;34m52\u001b[0m, \u001b[38;5;34m64\u001b[0m)      │             \u001b[38;5;34m0\u001b[0m │\n",
       "├─────────────────────────────────┼────────────────────────┼───────────────┤\n",
       "│ flatten (\u001b[38;5;33mFlatten\u001b[0m)               │ (\u001b[38;5;45mNone\u001b[0m, \u001b[38;5;34m19968\u001b[0m)          │             \u001b[38;5;34m0\u001b[0m │\n",
       "├─────────────────────────────────┼────────────────────────┼───────────────┤\n",
       "│ dense (\u001b[38;5;33mDense\u001b[0m)                   │ (\u001b[38;5;45mNone\u001b[0m, \u001b[38;5;34m64\u001b[0m)             │     \u001b[38;5;34m1,278,016\u001b[0m │\n",
       "├─────────────────────────────────┼────────────────────────┼───────────────┤\n",
       "│ dropout_2 (\u001b[38;5;33mDropout\u001b[0m)             │ (\u001b[38;5;45mNone\u001b[0m, \u001b[38;5;34m64\u001b[0m)             │             \u001b[38;5;34m0\u001b[0m │\n",
       "├─────────────────────────────────┼────────────────────────┼───────────────┤\n",
       "│ dense_1 (\u001b[38;5;33mDense\u001b[0m)                 │ (\u001b[38;5;45mNone\u001b[0m, \u001b[38;5;34m32\u001b[0m)             │         \u001b[38;5;34m2,080\u001b[0m │\n",
       "├─────────────────────────────────┼────────────────────────┼───────────────┤\n",
       "│ dense_2 (\u001b[38;5;33mDense\u001b[0m)                 │ (\u001b[38;5;45mNone\u001b[0m, \u001b[38;5;34m3\u001b[0m)              │            \u001b[38;5;34m99\u001b[0m │\n",
       "└─────────────────────────────────┴────────────────────────┴───────────────┘\n"
      ]
     },
     "metadata": {},
     "output_type": "display_data"
    },
    {
     "data": {
      "text/html": [
       "<pre style=\"white-space:pre;overflow-x:auto;line-height:normal;font-family:Menlo,'DejaVu Sans Mono',consolas,'Courier New',monospace\"><span style=\"font-weight: bold\"> Total params: </span><span style=\"color: #00af00; text-decoration-color: #00af00\">1,359,747</span> (5.19 MB)\n",
       "</pre>\n"
      ],
      "text/plain": [
       "\u001b[1m Total params: \u001b[0m\u001b[38;5;34m1,359,747\u001b[0m (5.19 MB)\n"
      ]
     },
     "metadata": {},
     "output_type": "display_data"
    },
    {
     "data": {
      "text/html": [
       "<pre style=\"white-space:pre;overflow-x:auto;line-height:normal;font-family:Menlo,'DejaVu Sans Mono',consolas,'Courier New',monospace\"><span style=\"font-weight: bold\"> Trainable params: </span><span style=\"color: #00af00; text-decoration-color: #00af00\">1,359,491</span> (5.19 MB)\n",
       "</pre>\n"
      ],
      "text/plain": [
       "\u001b[1m Trainable params: \u001b[0m\u001b[38;5;34m1,359,491\u001b[0m (5.19 MB)\n"
      ]
     },
     "metadata": {},
     "output_type": "display_data"
    },
    {
     "data": {
      "text/html": [
       "<pre style=\"white-space:pre;overflow-x:auto;line-height:normal;font-family:Menlo,'DejaVu Sans Mono',consolas,'Courier New',monospace\"><span style=\"font-weight: bold\"> Non-trainable params: </span><span style=\"color: #00af00; text-decoration-color: #00af00\">256</span> (1.00 KB)\n",
       "</pre>\n"
      ],
      "text/plain": [
       "\u001b[1m Non-trainable params: \u001b[0m\u001b[38;5;34m256\u001b[0m (1.00 KB)\n"
      ]
     },
     "metadata": {},
     "output_type": "display_data"
    }
   ],
   "source": [
    "#visualize the model\n",
    "model.summary()"
   ]
  },
  {
   "cell_type": "code",
   "execution_count": 5,
   "metadata": {},
   "outputs": [
    {
     "name": "stdout",
     "output_type": "stream",
     "text": [
      "Epoch 1/10\n",
      "\u001b[1m44/44\u001b[0m \u001b[32m━━━━━━━━━━━━━━━━━━━━\u001b[0m\u001b[37m\u001b[0m \u001b[1m73s\u001b[0m 2s/step - loss: 10.9903 - metric: 0.4243 - val_loss: 7.5811 - val_metric: 0.2723\n",
      "Epoch 2/10\n",
      "\u001b[1m44/44\u001b[0m \u001b[32m━━━━━━━━━━━━━━━━━━━━\u001b[0m\u001b[37m\u001b[0m \u001b[1m67s\u001b[0m 2s/step - loss: 6.5537 - metric: 0.3489 - val_loss: 4.6666 - val_metric: 0.5180\n",
      "Epoch 3/10\n",
      "\u001b[1m44/44\u001b[0m \u001b[32m━━━━━━━━━━━━━━━━━━━━\u001b[0m\u001b[37m\u001b[0m \u001b[1m68s\u001b[0m 2s/step - loss: 4.2316 - metric: 0.4558 - val_loss: 3.0523 - val_metric: 0.5895\n",
      "Epoch 4/10\n",
      "\u001b[1m44/44\u001b[0m \u001b[32m━━━━━━━━━━━━━━━━━━━━\u001b[0m\u001b[37m\u001b[0m \u001b[1m67s\u001b[0m 2s/step - loss: 2.8584 - metric: 0.4960 - val_loss: 4.4757 - val_metric: 0.4870\n",
      "Epoch 5/10\n",
      "\u001b[1m44/44\u001b[0m \u001b[32m━━━━━━━━━━━━━━━━━━━━\u001b[0m\u001b[37m\u001b[0m \u001b[1m67s\u001b[0m 2s/step - loss: 2.1462 - metric: 0.5242 - val_loss: 1.8413 - val_metric: 0.6316\n",
      "Epoch 6/10\n",
      "\u001b[1m44/44\u001b[0m \u001b[32m━━━━━━━━━━━━━━━━━━━━\u001b[0m\u001b[37m\u001b[0m \u001b[1m67s\u001b[0m 2s/step - loss: 1.7751 - metric: 0.5710 - val_loss: 1.2755 - val_metric: 0.7753\n",
      "Epoch 7/10\n",
      "\u001b[1m44/44\u001b[0m \u001b[32m━━━━━━━━━━━━━━━━━━━━\u001b[0m\u001b[37m\u001b[0m \u001b[1m67s\u001b[0m 2s/step - loss: 1.3529 - metric: 0.6986 - val_loss: 1.3249 - val_metric: 0.7321\n",
      "Epoch 8/10\n",
      "\u001b[1m44/44\u001b[0m \u001b[32m━━━━━━━━━━━━━━━━━━━━\u001b[0m\u001b[37m\u001b[0m \u001b[1m68s\u001b[0m 2s/step - loss: 1.2537 - metric: 0.7266 - val_loss: 0.9950 - val_metric: 0.8871\n",
      "Epoch 9/10\n",
      "\u001b[1m44/44\u001b[0m \u001b[32m━━━━━━━━━━━━━━━━━━━━\u001b[0m\u001b[37m\u001b[0m \u001b[1m67s\u001b[0m 2s/step - loss: 1.1681 - metric: 0.7751 - val_loss: 0.9436 - val_metric: 0.8933\n",
      "Epoch 10/10\n",
      "\u001b[1m44/44\u001b[0m \u001b[32m━━━━━━━━━━━━━━━━━━━━\u001b[0m\u001b[37m\u001b[0m \u001b[1m67s\u001b[0m 2s/step - loss: 0.9772 - metric: 0.8284 - val_loss: 0.9173 - val_metric: 0.8928\n"
     ]
    }
   ],
   "source": [
    "# Mallin kouluttaminen\n",
    "history = model.fit(X_train, y_train, epochs=10, validation_data=(X_test, y_test))"
   ]
  },
  {
   "cell_type": "code",
   "execution_count": 6,
   "metadata": {},
   "outputs": [
    {
     "data": {
      "image/png": "[encoded data removed]",
      "text/plain": [
       "<Figure size 640x480 with 1 Axes>"
      ]
     },
     "metadata": {},
     "output_type": "display_data"
    }
   ],
   "source": [
    "# Mallin suorituskyvyn evaluointi\n",
    "plt.plot(history.history['metric'], label='Opetustarkkuus')\n",
    "plt.plot(history.history['val_metric'], label='Validointitarkkuus')\n",
    "plt.xlabel('Epoch')\n",
    "plt.ylabel('Tarkkuus')\n",
    "plt.legend()\n",
    "plt.show()"
   ]
  },
  {
   "cell_type": "code",
   "execution_count": 7,
   "metadata": {},
   "outputs": [
    {
     "name": "stdout",
     "output_type": "stream",
     "text": [
      "X_val: (98, 64, 862)\n",
      "y_val: (98, 3)\n",
      "labels: ['fusku' 'salsa' 'valssi']\n"
     ]
    }
   ],
   "source": [
    "VALIDOINTI_DATAN_POLKU = \"../data/validointi.npz\"\n",
    "\n",
    "data = np.load(VALIDOINTI_DATAN_POLKU, allow_pickle=True)\n",
    "\n",
    "X_val = data['X_val']\n",
    "y_val = data['y_val']\n",
    "labels = data['labels']\n",
    "\n",
    "print(\"X_val:\", X_val.shape)\n",
    "print(\"y_val:\", y_val.shape)\n",
    "print(\"labels:\", labels)"
   ]
  },
  {
   "cell_type": "code",
   "execution_count": 11,
   "metadata": {},
   "outputs": [
    {
     "name": "stdout",
     "output_type": "stream",
     "text": [
      "4/4 - 1s - 284ms/step - loss: 0.9630 - metric: 0.6484\n",
      "Malli saavutti validoinnissa 64.84% tarkkuuden\n",
      "\u001b[1m4/4\u001b[0m \u001b[32m━━━━━━━━━━━━━━━━━━━━\u001b[0m\u001b[37m\u001b[0m \u001b[1m1s\u001b[0m 206ms/step\n",
      "True Real: salsa, Predicted: salsa, Confidence: 1.00\n",
      "True Real: salsa, Predicted: salsa, Confidence: 1.00\n",
      "True Real: salsa, Predicted: salsa, Confidence: 1.00\n",
      "True Real: salsa, Predicted: salsa, Confidence: 1.00\n",
      "True Real: salsa, Predicted: salsa, Confidence: 0.80\n",
      "True Real: salsa, Predicted: salsa, Confidence: 1.00\n",
      "True Real: salsa, Predicted: salsa, Confidence: 1.00\n",
      "True Real: salsa, Predicted: salsa, Confidence: 1.00\n",
      "True Real: salsa, Predicted: salsa, Confidence: 1.00\n",
      "True Real: salsa, Predicted: salsa, Confidence: 1.00\n",
      "True Real: salsa, Predicted: salsa, Confidence: 1.00\n",
      "True Real: salsa, Predicted: salsa, Confidence: 0.95\n",
      "True Real: salsa, Predicted: salsa, Confidence: 1.00\n",
      "True Real: salsa, Predicted: salsa, Confidence: 0.60\n",
      "True Real: salsa, Predicted: salsa, Confidence: 1.00\n",
      "False Real: salsa, Predicted: valssi, Confidence: 0.55\n",
      "True Real: salsa, Predicted: salsa, Confidence: 1.00\n",
      "True Real: salsa, Predicted: salsa, Confidence: 0.65\n",
      "True Real: salsa, Predicted: salsa, Confidence: 1.00\n",
      "True Real: salsa, Predicted: salsa, Confidence: 1.00\n",
      "True Real: salsa, Predicted: salsa, Confidence: 1.00\n",
      "True Real: salsa, Predicted: salsa, Confidence: 0.99\n",
      "True Real: salsa, Predicted: salsa, Confidence: 1.00\n",
      "True Real: salsa, Predicted: salsa, Confidence: 1.00\n",
      "True Real: salsa, Predicted: salsa, Confidence: 1.00\n",
      "True Real: salsa, Predicted: salsa, Confidence: 0.99\n",
      "True Real: salsa, Predicted: salsa, Confidence: 0.98\n",
      "True Real: salsa, Predicted: salsa, Confidence: 0.94\n",
      "False Real: salsa, Predicted: valssi, Confidence: 0.56\n",
      "True Real: salsa, Predicted: salsa, Confidence: 1.00\n",
      "True Real: salsa, Predicted: salsa, Confidence: 0.99\n",
      "True Real: salsa, Predicted: salsa, Confidence: 1.00\n",
      "True Real: salsa, Predicted: salsa, Confidence: 1.00\n",
      "True Real: salsa, Predicted: salsa, Confidence: 1.00\n",
      "True Real: valssi, Predicted: valssi, Confidence: 0.78\n",
      "True Real: valssi, Predicted: valssi, Confidence: 0.78\n",
      "True Real: valssi, Predicted: valssi, Confidence: 0.57\n",
      "True Real: valssi, Predicted: valssi, Confidence: 0.80\n",
      "True Real: valssi, Predicted: valssi, Confidence: 0.79\n",
      "True Real: valssi, Predicted: valssi, Confidence: 0.72\n",
      "True Real: valssi, Predicted: valssi, Confidence: 0.60\n",
      "True Real: valssi, Predicted: valssi, Confidence: 0.75\n",
      "True Real: valssi, Predicted: valssi, Confidence: 0.78\n",
      "True Real: valssi, Predicted: valssi, Confidence: 0.67\n",
      "True Real: valssi, Predicted: valssi, Confidence: 0.68\n",
      "True Real: valssi, Predicted: valssi, Confidence: 0.84\n",
      "True Real: valssi, Predicted: valssi, Confidence: 0.73\n",
      "True Real: valssi, Predicted: valssi, Confidence: 0.70\n",
      "True Real: valssi, Predicted: valssi, Confidence: 0.75\n",
      "True Real: valssi, Predicted: valssi, Confidence: 0.77\n",
      "True Real: valssi, Predicted: valssi, Confidence: 0.78\n",
      "True Real: valssi, Predicted: valssi, Confidence: 0.67\n",
      "True Real: valssi, Predicted: valssi, Confidence: 0.63\n",
      "True Real: valssi, Predicted: valssi, Confidence: 0.75\n",
      "True Real: valssi, Predicted: valssi, Confidence: 0.84\n",
      "True Real: valssi, Predicted: valssi, Confidence: 0.81\n",
      "True Real: valssi, Predicted: valssi, Confidence: 0.79\n",
      "True Real: valssi, Predicted: valssi, Confidence: 0.72\n",
      "True Real: valssi, Predicted: valssi, Confidence: 0.78\n",
      "True Real: valssi, Predicted: valssi, Confidence: 0.81\n",
      "True Real: valssi, Predicted: valssi, Confidence: 0.87\n",
      "True Real: valssi, Predicted: valssi, Confidence: 0.77\n",
      "True Real: valssi, Predicted: valssi, Confidence: 0.83\n",
      "True Real: valssi, Predicted: valssi, Confidence: 0.76\n",
      "True Real: valssi, Predicted: valssi, Confidence: 0.68\n",
      "True Real: valssi, Predicted: valssi, Confidence: 0.77\n",
      "True Real: valssi, Predicted: valssi, Confidence: 0.65\n",
      "True Real: valssi, Predicted: valssi, Confidence: 0.80\n",
      "True Real: fusku, Predicted: fusku, Confidence: 0.58\n",
      "False Real: fusku, Predicted: salsa, Confidence: 0.37\n",
      "False Real: fusku, Predicted: valssi, Confidence: 0.47\n",
      "True Real: fusku, Predicted: fusku, Confidence: 0.58\n",
      "True Real: fusku, Predicted: fusku, Confidence: 0.50\n",
      "True Real: fusku, Predicted: fusku, Confidence: 0.56\n",
      "False Real: fusku, Predicted: valssi, Confidence: 0.49\n",
      "True Real: fusku, Predicted: fusku, Confidence: 0.77\n",
      "True Real: fusku, Predicted: fusku, Confidence: 0.73\n",
      "False Real: fusku, Predicted: valssi, Confidence: 0.70\n",
      "True Real: fusku, Predicted: fusku, Confidence: 0.72\n",
      "False Real: fusku, Predicted: salsa, Confidence: 0.79\n",
      "True Real: fusku, Predicted: fusku, Confidence: 0.59\n",
      "True Real: fusku, Predicted: fusku, Confidence: 0.79\n",
      "True Real: fusku, Predicted: fusku, Confidence: 0.62\n",
      "True Real: fusku, Predicted: fusku, Confidence: 0.69\n",
      "False Real: fusku, Predicted: valssi, Confidence: 0.64\n",
      "False Real: fusku, Predicted: valssi, Confidence: 0.46\n",
      "False Real: fusku, Predicted: valssi, Confidence: 0.66\n",
      "False Real: fusku, Predicted: valssi, Confidence: 0.59\n",
      "True Real: fusku, Predicted: fusku, Confidence: 0.68\n",
      "True Real: fusku, Predicted: fusku, Confidence: 0.79\n",
      "False Real: fusku, Predicted: valssi, Confidence: 0.74\n",
      "True Real: fusku, Predicted: fusku, Confidence: 0.81\n",
      "False Real: fusku, Predicted: valssi, Confidence: 0.57\n",
      "True Real: fusku, Predicted: fusku, Confidence: 0.50\n",
      "True Real: fusku, Predicted: fusku, Confidence: 0.46\n",
      "True Real: fusku, Predicted: fusku, Confidence: 0.80\n",
      "False Real: fusku, Predicted: valssi, Confidence: 0.55\n",
      "False Real: fusku, Predicted: valssi, Confidence: 0.62\n"
     ]
    },
    {
     "data": {
      "image/png": "[encoded data removed]",
      "text/plain": [
       "<Figure size 1000x1000 with 2 Axes>"
      ]
     },
     "metadata": {},
     "output_type": "display_data"
    }
   ],
   "source": [
    "\n",
    "from tensorflow.keras.models import load_model\n",
    "\n",
    "#load the model\n",
    "#model = load_model('model_3_genres_best.keras')\n",
    "\n",
    "#evaluate the model on the validation data\n",
    "test_loss, test_acc = model.evaluate(X_val, y_val, verbose=2)\n",
    "print(f'Malli saavutti validoinnissa {test_acc*100:.2f}% tarkkuuden')    \n",
    "\n",
    "#predict the labels for the validation data\n",
    "predicted_labels_one_hot = model.predict(X_val)\n",
    "indices = np.argmax(predicted_labels_one_hot, axis=1)\n",
    "predicted_labels = labels[indices]\n",
    "\n",
    "true_labels = labels[np.argmax(y_val, axis=1)]\n",
    "\n",
    "# Get the confidence (probability) of the predicted class\n",
    "predicted_confidence = np.max(predicted_labels_one_hot, axis=1)\n",
    "\n",
    "# Print the true and predicted labels for the first 10 examples\n",
    "for i in range(len(predicted_labels)):\n",
    "    prediction_true = true_labels[i] == predicted_labels[i]\n",
    "    print(f'{prediction_true} Real: {true_labels[i]}, Predicted: {predicted_labels[i]}, Confidence: {predicted_confidence[i]:.2f}')\n",
    "\n",
    "#plot the confusion matrix\n",
    "from sklearn.metrics import confusion_matrix\n",
    "import seaborn as sns\n",
    "\n",
    "cm = confusion_matrix(true_labels, predicted_labels, labels=labels)\n",
    "plt.figure(figsize=(10, 10))\n",
    "sns.heatmap(cm, annot=True, fmt='d', xticklabels=labels, yticklabels=labels)\n",
    "plt.xlabel('Predicted')\n",
    "plt.ylabel('True')\n",
    "plt.show()\n"
   ]
  },
  {
   "cell_type": "code",
   "execution_count": 10,
   "metadata": {},
   "outputs": [
    {
     "name": "stdout",
     "output_type": "stream",
     "text": [
      "Malli tallennettu tiedostoon\n"
     ]
    }
   ],
   "source": [
    "# save the model whit the best accuracy\n",
    "model.save('model_3_genres_best.keras')\n",
    "print('Malli tallennettu tiedostoon')"
   ]
  }
 ],
 "metadata": {
  "kernelspec": {
   "display_name": "login-robot-jI4q7k4c-py3.10",
   "language": "python",
   "name": "python3"
  },
  "language_info": {
   "codemirror_mode": {
    "name": "ipython",
    "version": 3
   },
   "file_extension": ".py",
   "mimetype": "text/x-python",
   "name": "python",
   "nbconvert_exporter": "python",
   "pygments_lexer": "ipython3",
   "version": "3.10.12"
  }
 },
 "nbformat": 4,
 "nbformat_minor": 2
}
