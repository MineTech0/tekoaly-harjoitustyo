{
 "cells": [
  {
   "cell_type": "markdown",
   "metadata": {},
   "source": [
    "Ladataan data"
   ]
  },
  {
   "cell_type": "code",
   "execution_count": 1,
   "metadata": {},
   "outputs": [
    {
     "name": "stdout",
     "output_type": "stream",
     "text": [
      "X_train: (1387, 64, 862)\n",
      "y_train: (1387, 3)\n",
      "X_test: (347, 64, 862)\n",
      "y_test: (347, 3)\n",
      "labels: ['fusku' 'salsa' 'valssi']\n"
     ]
    }
   ],
   "source": [
    "import numpy as np\n",
    "\n",
    "DATAN_POLKU = \"../data/kappaleet.npz\"\n",
    "\n",
    "def lataa_data():\n",
    "    data = np.load(DATAN_POLKU, allow_pickle=True)\n",
    "\n",
    "    # Accessing the training and testing data\n",
    "    X_train = data['X_train']\n",
    "    y_train = data['y_train']\n",
    "    X_test = data['X_test']\n",
    "    y_test = data['y_test']\n",
    "    labels = data['labels']\n",
    "    \n",
    "    return X_train, y_train, X_test, y_test, labels\n",
    "\n",
    "\n",
    "\n",
    "X_train, y_train, X_test, y_test, labels = lataa_data()\n",
    "\n",
    "print(\"X_train:\", X_train.shape)\n",
    "print(\"y_train:\", y_train.shape)\n",
    "print(\"X_test:\", X_test.shape)\n",
    "print(\"y_test:\", y_test.shape)\n",
    "print(\"labels:\", labels)"
   ]
  },
  {
   "cell_type": "code",
   "execution_count": 10,
   "metadata": {},
   "outputs": [
    {
     "ename": "TypeError",
     "evalue": "Conv2D.forward() got an unexpected keyword argument 'training'",
     "output_type": "error",
     "traceback": [
      "\u001b[0;31m---------------------------------------------------------------------------\u001b[0m",
      "\u001b[0;31mTypeError\u001b[0m                                 Traceback (most recent call last)",
      "Cell \u001b[0;32mIn[10], line 22\u001b[0m\n\u001b[1;32m     19\u001b[0m model\u001b[38;5;241m.\u001b[39madd(Dense(\u001b[38;5;241m16\u001b[39m,y_train\u001b[38;5;241m.\u001b[39mshape[\u001b[38;5;241m1\u001b[39m]))\n\u001b[1;32m     20\u001b[0m model\u001b[38;5;241m.\u001b[39madd(Softmax())\n\u001b[0;32m---> 22\u001b[0m \u001b[43mmodel\u001b[49m\u001b[38;5;241;43m.\u001b[39;49m\u001b[43mfit\u001b[49m\u001b[43m(\u001b[49m\u001b[43mX_train\u001b[49m\u001b[43m,\u001b[49m\u001b[43m \u001b[49m\u001b[43my_train\u001b[49m\u001b[43m,\u001b[49m\u001b[43m \u001b[49m\u001b[43mepochs\u001b[49m\u001b[38;5;241;43m=\u001b[39;49m\u001b[38;5;241;43m10\u001b[39;49m\u001b[43m,\u001b[49m\u001b[43m \u001b[49m\u001b[43mlearning_rate\u001b[49m\u001b[38;5;241;43m=\u001b[39;49m\u001b[38;5;241;43m0.01\u001b[39;49m\u001b[43m,\u001b[49m\u001b[43m \u001b[49m\u001b[43mbatch_size\u001b[49m\u001b[38;5;241;43m=\u001b[39;49m\u001b[38;5;241;43m32\u001b[39;49m\u001b[43m,\u001b[49m\u001b[43m \u001b[49m\u001b[43mX_val\u001b[49m\u001b[38;5;241;43m=\u001b[39;49m\u001b[43mX_test\u001b[49m\u001b[43m,\u001b[49m\u001b[43m \u001b[49m\u001b[43mY_val\u001b[49m\u001b[38;5;241;43m=\u001b[39;49m\u001b[43my_test\u001b[49m\u001b[43m)\u001b[49m\n",
      "File \u001b[0;32m~/Documents/tekoaly-harjoitustyo/src/omamalli/neural_network.py:42\u001b[0m, in \u001b[0;36mNeuralNetwork.fit\u001b[0;34m(self, X_train, Y_train, epochs, learning_rate, batch_size, X_val, Y_val)\u001b[0m\n\u001b[1;32m     39\u001b[0m Y_batch \u001b[38;5;241m=\u001b[39m Y_train[start:end]\n\u001b[1;32m     41\u001b[0m \u001b[38;5;66;03m# Suorita eteenpäinlevitys ja virheenlaskenta mini-erälle\u001b[39;00m\n\u001b[0;32m---> 42\u001b[0m predicted_output \u001b[38;5;241m=\u001b[39m \u001b[38;5;28;43mself\u001b[39;49m\u001b[38;5;241;43m.\u001b[39;49m\u001b[43mpredict\u001b[49m\u001b[43m(\u001b[49m\u001b[43mX_batch\u001b[49m\u001b[43m)\u001b[49m\n\u001b[1;32m     43\u001b[0m loss \u001b[38;5;241m=\u001b[39m \u001b[38;5;28mself\u001b[39m\u001b[38;5;241m.\u001b[39mcompute_loss(predicted_output, Y_batch)\n\u001b[1;32m     45\u001b[0m \u001b[38;5;66;03m# Takaisinlevitys ja painojen päivitys\u001b[39;00m\n",
      "File \u001b[0;32m~/Documents/tekoaly-harjoitustyo/src/omamalli/neural_network.py:13\u001b[0m, in \u001b[0;36mNeuralNetwork.predict\u001b[0;34m(self, input_data)\u001b[0m\n\u001b[1;32m     11\u001b[0m output \u001b[38;5;241m=\u001b[39m input_data\n\u001b[1;32m     12\u001b[0m \u001b[38;5;28;01mfor\u001b[39;00m layer \u001b[38;5;129;01min\u001b[39;00m \u001b[38;5;28mself\u001b[39m\u001b[38;5;241m.\u001b[39mlayers:\n\u001b[0;32m---> 13\u001b[0m     output \u001b[38;5;241m=\u001b[39m \u001b[43mlayer\u001b[49m\u001b[38;5;241;43m.\u001b[39;49m\u001b[43mforward\u001b[49m\u001b[43m(\u001b[49m\u001b[43moutput\u001b[49m\u001b[43m,\u001b[49m\u001b[43m \u001b[49m\u001b[43mtraining\u001b[49m\u001b[38;5;241;43m=\u001b[39;49m\u001b[38;5;28;43;01mFalse\u001b[39;49;00m\u001b[43m)\u001b[49m\n\u001b[1;32m     14\u001b[0m \u001b[38;5;28;01mreturn\u001b[39;00m output\n",
      "\u001b[0;31mTypeError\u001b[0m: Conv2D.forward() got an unexpected keyword argument 'training'"
     ]
    }
   ],
   "source": [
    "from neural_network import NeuralNetwork\n",
    "from layers import Dense, ReLU, Conv2D, Flatten, Dropout, MaxPooling2D, Softmax\n",
    "\n",
    "model = NeuralNetwork()\n",
    "\n",
    "model.add(Conv2D(8, 3, input_shape=(X_train.shape[1], X_train.shape[2], 1)))\n",
    "model.add(ReLU())\n",
    "model.add(MaxPooling2D(2,1))\n",
    "model.add(Conv2D(16, 3, input_shape=((X_train.shape[1] - 3, X_train.shape[2] - 3, 8))))\n",
    "model.add(ReLU())\n",
    "model.add(MaxPooling2D(2,1))\n",
    "model.add(Dropout(0.2))\n",
    "model.add(Flatten())\n",
    "model.add(Dense(64,32))\n",
    "model.add(ReLU())\n",
    "model.add(Dropout(0.5))\n",
    "model.add(Dense(32,16))\n",
    "model.add(ReLU())\n",
    "model.add(Dense(16,y_train.shape[1]))\n",
    "model.add(Softmax())\n",
    "\n",
    "model.fit(X_train, y_train, epochs=10, learning_rate=0.01, batch_size=32, X_val=X_test, Y_val=y_test)\n"
   ]
  }
 ],
 "metadata": {
  "kernelspec": {
   "display_name": ".venv",
   "language": "python",
   "name": "python3"
  },
  "language_info": {
   "codemirror_mode": {
    "name": "ipython",
    "version": 3
   },
   "file_extension": ".py",
   "mimetype": "text/x-python",
   "name": "python",
   "nbconvert_exporter": "python",
   "pygments_lexer": "ipython3",
   "version": "3.10.12"
  }
 },
 "nbformat": 4,
 "nbformat_minor": 2
}
